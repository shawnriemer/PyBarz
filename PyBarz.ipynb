{
 "cells": [
  {
   "cell_type": "code",
   "execution_count": 15,
   "id": "bc3d30fb",
   "metadata": {},
   "outputs": [],
   "source": [
    "import speech_recognition as sr\n",
    "import pyttsx3\n",
    "import pronouncing\n",
    "import pandas as pd\n",
    "import random"
   ]
  },
  {
   "cell_type": "code",
   "execution_count": 16,
   "id": "e96d8737",
   "metadata": {},
   "outputs": [],
   "source": [
    "# Files to iterate through\n",
    "files = [\n",
    "    'Chance-the-Rapper',\n",
    "    'Childish-Gambino',\n",
    "    'Eminem',\n",
    "    'J-Cole',\n",
    "    'Kanye',\n",
    "    'Kendrick-Lamar',\n",
    "    'Lil-Wayne',\n",
    "    'Logic',\n",
    "    'Mac-Miller'\n",
    "]\n",
    "\n",
    "artist_dict = {}\n",
    "\n",
    "# Iterate through each artist\n",
    "for artist in files:\n",
    "    \n",
    "    # Read in, drop duplicate lines, convert to list\n",
    "    temp_in = pd.read_csv(f'{artist}.csv', delimiter='|').drop_duplicates().iloc[:, 0].values.tolist()\n",
    "    \n",
    "    temp_out = []\n",
    "    \n",
    "    # Iterate through lines\n",
    "    for line in temp_in:\n",
    "        \n",
    "        # Continue if line starts with # or is empty\n",
    "        if line[0] == '#' or len(line) == 0:\n",
    "            continue\n",
    "        \n",
    "        # Clean line and append\n",
    "        line = line.replace('.', '').replace('!', '').replace('?', '').replace(\"'\", '').replace('\"', '').lower()\n",
    "        temp_out.append(line)\n",
    "        \n",
    "    artist_dict[artist] = temp_out"
   ]
  },
  {
   "cell_type": "code",
   "execution_count": 17,
   "id": "72458351",
   "metadata": {},
   "outputs": [
    {
     "data": {
      "text/plain": [
       "dict_keys(['Chance-the-Rapper', 'Childish-Gambino', 'Eminem', 'J-Cole', 'Kanye', 'Kendrick-Lamar', 'Lil-Wayne', 'Logic', 'Mac-Miller'])"
      ]
     },
     "execution_count": 17,
     "metadata": {},
     "output_type": "execute_result"
    }
   ],
   "source": [
    "artist_dict.keys()"
   ]
  },
  {
   "cell_type": "code",
   "execution_count": 18,
   "id": "9e67a45a",
   "metadata": {},
   "outputs": [
    {
     "data": {
      "text/plain": [
       "2323"
      ]
     },
     "execution_count": 18,
     "metadata": {},
     "output_type": "execute_result"
    }
   ],
   "source": [
    "len(artist_dict['Chance-the-Rapper'])"
   ]
  },
  {
   "cell_type": "code",
   "execution_count": 25,
   "id": "6dd1030e",
   "metadata": {},
   "outputs": [],
   "source": [
    "# Function to convert text to speech\n",
    "def SpeakText(command):\n",
    "     \n",
    "    # Initialize the engine\n",
    "    engine = pyttsx3.init()\n",
    "    engine.setProperty('rate', 140)\n",
    "    engine.say(command)\n",
    "    engine.runAndWait()"
   ]
  },
  {
   "cell_type": "code",
   "execution_count": 26,
   "id": "16027857",
   "metadata": {},
   "outputs": [],
   "source": [
    "# Function to find words that rhyme with last word\n",
    "def get_rhyme_words(last_word):\n",
    "    rhyme_words = pronouncing.rhymes(last_word)\n",
    "    return rhyme_words"
   ]
  },
  {
   "cell_type": "code",
   "execution_count": 27,
   "id": "4a2dd2e3",
   "metadata": {},
   "outputs": [],
   "source": [
    "# Function to find lines that rhyme\n",
    "def get_line(raps, rhyme_words, num_words, last_word_rhyme):\n",
    "    \n",
    "    start = random.randint(0,len(raps)-1)\n",
    "    rhyme_list = raps[start:] + raps[:start]\n",
    "    \n",
    "    # Go through first time looking for similar lengths\n",
    "    for line in rhyme_list:\n",
    "        last_word = line.split(' ')[-1]\n",
    "        line_num_words = len(line.split(' '))\n",
    "        \n",
    "        if last_word in rhyme_words and abs(line_num_words-num_words) <= 3:\n",
    "            return line\n",
    "    \n",
    "    # Go through second time looking for anything\n",
    "    for line in rhyme_list:\n",
    "        last_word = line.split(' ')[-1]\n",
    "        \n",
    "        if last_word in rhyme_words:\n",
    "            print('method 2')\n",
    "            return line\n",
    "        \n",
    "    # Go through third time looking for anything with same last three letters\n",
    "    for line in rhyme_list:\n",
    "        last_word = line.split(' ')[-1]\n",
    "        \n",
    "        if last_word[-3:] == last_word_rhyme[-3:]:\n",
    "            print('method 3')\n",
    "            return line"
   ]
  },
  {
   "cell_type": "code",
   "execution_count": 28,
   "id": "14cf48bd",
   "metadata": {},
   "outputs": [],
   "source": [
    "# Function to do everything\n",
    "def rap(text, rapper):\n",
    "    \n",
    "    # Prepare\n",
    "    words = text.split(' ')\n",
    "    num_words = len(words)\n",
    "    last_word = words[-1]\n",
    "    \n",
    "    # Get words that rhyme with last word in line\n",
    "    rhyme_words = get_rhyme_words(last_word)\n",
    "    \n",
    "    # Get the line to speak\n",
    "    line = get_line(rapper, rhyme_words, num_words, last_word)\n",
    "    \n",
    "    # Speak\n",
    "    SpeakText(line)\n",
    "    print(line, '\\n')"
   ]
  },
  {
   "cell_type": "code",
   "execution_count": 57,
   "id": "70c62daa",
   "metadata": {},
   "outputs": [],
   "source": [
    "def main(rapper):\n",
    "    \n",
    "    # Filter to specified artist\n",
    "    rapper = artist_dict[rapper]\n",
    "    \n",
    "    # Initialize the recognizer\n",
    "    r = sr.Recognizer()\n",
    "\n",
    "    # Loop infinitely for user to speak\n",
    "    while(1):   \n",
    "\n",
    "        try:\n",
    "\n",
    "            # Use the microphone as source for input.\n",
    "            with sr.Microphone() as mic:\n",
    "\n",
    "                # Wait for a sec to let the recognizer adjust the energy threshold based on the surrounding noise level\n",
    "                r.adjust_for_ambient_noise(mic, duration=.5)\n",
    "                # r.energy_threshold = 500\n",
    "\n",
    "                # Listens for the user's input\n",
    "                audio = r.listen(mic)\n",
    "\n",
    "                # Using google to recognize audio\n",
    "                text = r.recognize_google(audio).lower()\n",
    "                print(text)\n",
    "\n",
    "                # Find rhyme and rap\n",
    "                rap(text, rapper)\n",
    "\n",
    "        except sr.RequestError as e:\n",
    "            print(\"\\nCould not request results; {0}\\n\".format(e))\n",
    "\n",
    "        except sr.UnknownValueError:\n",
    "            print(\"\\nthis package dumb as hell\\n\")"
   ]
  },
  {
   "cell_type": "code",
   "execution_count": 60,
   "id": "4b97581a",
   "metadata": {},
   "outputs": [
    {
     "name": "stdout",
     "output_type": "stream",
     "text": [
      "why don't this work with my airpods\n",
      "method 3\n",
      "cause it just aint big enough to fit your damaged goods \n",
      "\n",
      "i guess the last three letters are the same\n",
      "if it feels like im runnin away with the game \n",
      "\n",
      "how many songs have you written eminem\n",
      "method 3\n",
      "eminem, eminem, eminem, eminem, eminem, eminem \n",
      "\n",
      "did you really say that in the song\n",
      "(and go berserk) all night long \n",
      "\n",
      "beautifully said couldn't have said it better myself\n",
      "just having to balance my dang self \n",
      "\n"
     ]
    },
    {
     "ename": "KeyboardInterrupt",
     "evalue": "",
     "output_type": "error",
     "traceback": [
      "\u001b[1;31m---------------------------------------------------------------------------\u001b[0m",
      "\u001b[1;31mKeyboardInterrupt\u001b[0m                         Traceback (most recent call last)",
      "Input \u001b[1;32mIn [60]\u001b[0m, in \u001b[0;36m<cell line: 1>\u001b[1;34m()\u001b[0m\n\u001b[1;32m----> 1\u001b[0m \u001b[43mmain\u001b[49m\u001b[43m(\u001b[49m\u001b[38;5;124;43m'\u001b[39;49m\u001b[38;5;124;43mEminem\u001b[39;49m\u001b[38;5;124;43m'\u001b[39;49m\u001b[43m)\u001b[49m\n",
      "Input \u001b[1;32mIn [57]\u001b[0m, in \u001b[0;36mmain\u001b[1;34m(rapper)\u001b[0m\n\u001b[0;32m     18\u001b[0m r\u001b[38;5;241m.\u001b[39madjust_for_ambient_noise(mic, duration\u001b[38;5;241m=\u001b[39m\u001b[38;5;241m.5\u001b[39m)\n\u001b[0;32m     19\u001b[0m \u001b[38;5;66;03m# r.energy_threshold = 500\u001b[39;00m\n\u001b[0;32m     20\u001b[0m \n\u001b[0;32m     21\u001b[0m \u001b[38;5;66;03m# Listens for the user's input\u001b[39;00m\n\u001b[1;32m---> 22\u001b[0m audio \u001b[38;5;241m=\u001b[39m \u001b[43mr\u001b[49m\u001b[38;5;241;43m.\u001b[39;49m\u001b[43mlisten\u001b[49m\u001b[43m(\u001b[49m\u001b[43mmic\u001b[49m\u001b[43m)\u001b[49m\n\u001b[0;32m     24\u001b[0m \u001b[38;5;66;03m# Using google to recognize audio\u001b[39;00m\n\u001b[0;32m     25\u001b[0m text \u001b[38;5;241m=\u001b[39m r\u001b[38;5;241m.\u001b[39mrecognize_google(audio)\u001b[38;5;241m.\u001b[39mlower()\n",
      "File \u001b[1;32m~\\miniconda3\\envs\\py310\\lib\\site-packages\\speech_recognition\\__init__.py:523\u001b[0m, in \u001b[0;36mRecognizer.listen\u001b[1;34m(self, source, timeout, phrase_time_limit, snowboy_configuration)\u001b[0m\n\u001b[0;32m    520\u001b[0m \u001b[38;5;28;01mif\u001b[39;00m phrase_time_limit \u001b[38;5;129;01mand\u001b[39;00m elapsed_time \u001b[38;5;241m-\u001b[39m phrase_start_time \u001b[38;5;241m>\u001b[39m phrase_time_limit:\n\u001b[0;32m    521\u001b[0m     \u001b[38;5;28;01mbreak\u001b[39;00m\n\u001b[1;32m--> 523\u001b[0m buffer \u001b[38;5;241m=\u001b[39m \u001b[43msource\u001b[49m\u001b[38;5;241;43m.\u001b[39;49m\u001b[43mstream\u001b[49m\u001b[38;5;241;43m.\u001b[39;49m\u001b[43mread\u001b[49m\u001b[43m(\u001b[49m\u001b[43msource\u001b[49m\u001b[38;5;241;43m.\u001b[39;49m\u001b[43mCHUNK\u001b[49m\u001b[43m)\u001b[49m\n\u001b[0;32m    524\u001b[0m \u001b[38;5;28;01mif\u001b[39;00m \u001b[38;5;28mlen\u001b[39m(buffer) \u001b[38;5;241m==\u001b[39m \u001b[38;5;241m0\u001b[39m: \u001b[38;5;28;01mbreak\u001b[39;00m  \u001b[38;5;66;03m# reached end of the stream\u001b[39;00m\n\u001b[0;32m    525\u001b[0m frames\u001b[38;5;241m.\u001b[39mappend(buffer)\n",
      "File \u001b[1;32m~\\miniconda3\\envs\\py310\\lib\\site-packages\\speech_recognition\\__init__.py:199\u001b[0m, in \u001b[0;36mMicrophone.MicrophoneStream.read\u001b[1;34m(self, size)\u001b[0m\n\u001b[0;32m    198\u001b[0m \u001b[38;5;28;01mdef\u001b[39;00m \u001b[38;5;21mread\u001b[39m(\u001b[38;5;28mself\u001b[39m, size):\n\u001b[1;32m--> 199\u001b[0m     \u001b[38;5;28;01mreturn\u001b[39;00m \u001b[38;5;28;43mself\u001b[39;49m\u001b[38;5;241;43m.\u001b[39;49m\u001b[43mpyaudio_stream\u001b[49m\u001b[38;5;241;43m.\u001b[39;49m\u001b[43mread\u001b[49m\u001b[43m(\u001b[49m\u001b[43msize\u001b[49m\u001b[43m,\u001b[49m\u001b[43m \u001b[49m\u001b[43mexception_on_overflow\u001b[49m\u001b[38;5;241;43m=\u001b[39;49m\u001b[38;5;28;43;01mFalse\u001b[39;49;00m\u001b[43m)\u001b[49m\n",
      "File \u001b[1;32m~\\miniconda3\\envs\\py310\\lib\\site-packages\\pyaudio\\__init__.py:570\u001b[0m, in \u001b[0;36mPyAudio.Stream.read\u001b[1;34m(self, num_frames, exception_on_overflow)\u001b[0m\n\u001b[0;32m    567\u001b[0m \u001b[38;5;28;01mif\u001b[39;00m \u001b[38;5;129;01mnot\u001b[39;00m \u001b[38;5;28mself\u001b[39m\u001b[38;5;241m.\u001b[39m_is_input:\n\u001b[0;32m    568\u001b[0m     \u001b[38;5;28;01mraise\u001b[39;00m \u001b[38;5;167;01mIOError\u001b[39;00m(\u001b[38;5;124m\"\u001b[39m\u001b[38;5;124mNot input stream\u001b[39m\u001b[38;5;124m\"\u001b[39m,\n\u001b[0;32m    569\u001b[0m                   paCanNotReadFromAnOutputOnlyStream)\n\u001b[1;32m--> 570\u001b[0m \u001b[38;5;28;01mreturn\u001b[39;00m \u001b[43mpa\u001b[49m\u001b[38;5;241;43m.\u001b[39;49m\u001b[43mread_stream\u001b[49m\u001b[43m(\u001b[49m\u001b[38;5;28;43mself\u001b[39;49m\u001b[38;5;241;43m.\u001b[39;49m\u001b[43m_stream\u001b[49m\u001b[43m,\u001b[49m\u001b[43m \u001b[49m\u001b[43mnum_frames\u001b[49m\u001b[43m,\u001b[49m\n\u001b[0;32m    571\u001b[0m \u001b[43m                      \u001b[49m\u001b[43mexception_on_overflow\u001b[49m\u001b[43m)\u001b[49m\n",
      "\u001b[1;31mKeyboardInterrupt\u001b[0m: "
     ]
    }
   ],
   "source": [
    "main('Eminem')"
   ]
  },
  {
   "cell_type": "code",
   "execution_count": null,
   "id": "89515e3f",
   "metadata": {},
   "outputs": [],
   "source": []
  },
  {
   "cell_type": "code",
   "execution_count": null,
   "id": "e1547963",
   "metadata": {},
   "outputs": [],
   "source": []
  },
  {
   "cell_type": "code",
   "execution_count": null,
   "id": "4bed4cf8",
   "metadata": {},
   "outputs": [],
   "source": []
  },
  {
   "cell_type": "code",
   "execution_count": null,
   "id": "c7f820e3",
   "metadata": {},
   "outputs": [],
   "source": []
  },
  {
   "cell_type": "code",
   "execution_count": 13,
   "id": "a1210f3e",
   "metadata": {},
   "outputs": [
    {
     "name": "stdout",
     "output_type": "stream",
     "text": [
      "\n",
      "unknown error occurred\n",
      "\n",
      "\n",
      "unknown error occurred\n",
      "\n"
     ]
    },
    {
     "ename": "KeyboardInterrupt",
     "evalue": "",
     "output_type": "error",
     "traceback": [
      "\u001b[1;31m---------------------------------------------------------------------------\u001b[0m",
      "\u001b[1;31mKeyboardInterrupt\u001b[0m                         Traceback (most recent call last)",
      "Input \u001b[1;32mIn [13]\u001b[0m, in \u001b[0;36m<cell line: 5>\u001b[1;34m()\u001b[0m\n\u001b[0;32m     13\u001b[0m r\u001b[38;5;241m.\u001b[39madjust_for_ambient_noise(mic, duration\u001b[38;5;241m=\u001b[39m\u001b[38;5;241m0.2\u001b[39m)\n\u001b[0;32m     15\u001b[0m \u001b[38;5;66;03m# Listens for the user's input\u001b[39;00m\n\u001b[1;32m---> 16\u001b[0m audio \u001b[38;5;241m=\u001b[39m \u001b[43mr\u001b[49m\u001b[38;5;241;43m.\u001b[39;49m\u001b[43mlisten\u001b[49m\u001b[43m(\u001b[49m\u001b[43mmic\u001b[49m\u001b[43m)\u001b[49m\n\u001b[0;32m     18\u001b[0m \u001b[38;5;66;03m# Using google to recognize audio\u001b[39;00m\n\u001b[0;32m     19\u001b[0m text \u001b[38;5;241m=\u001b[39m r\u001b[38;5;241m.\u001b[39mrecognize_google(audio)\u001b[38;5;241m.\u001b[39mlower()\n",
      "File \u001b[1;32m~\\miniconda3\\envs\\py310\\lib\\site-packages\\speech_recognition\\__init__.py:491\u001b[0m, in \u001b[0;36mRecognizer.listen\u001b[1;34m(self, source, timeout, phrase_time_limit, snowboy_configuration)\u001b[0m\n\u001b[0;32m    488\u001b[0m \u001b[38;5;28;01mif\u001b[39;00m timeout \u001b[38;5;129;01mand\u001b[39;00m elapsed_time \u001b[38;5;241m>\u001b[39m timeout:\n\u001b[0;32m    489\u001b[0m     \u001b[38;5;28;01mraise\u001b[39;00m WaitTimeoutError(\u001b[38;5;124m\"\u001b[39m\u001b[38;5;124mlistening timed out while waiting for phrase to start\u001b[39m\u001b[38;5;124m\"\u001b[39m)\n\u001b[1;32m--> 491\u001b[0m buffer \u001b[38;5;241m=\u001b[39m \u001b[43msource\u001b[49m\u001b[38;5;241;43m.\u001b[39;49m\u001b[43mstream\u001b[49m\u001b[38;5;241;43m.\u001b[39;49m\u001b[43mread\u001b[49m\u001b[43m(\u001b[49m\u001b[43msource\u001b[49m\u001b[38;5;241;43m.\u001b[39;49m\u001b[43mCHUNK\u001b[49m\u001b[43m)\u001b[49m\n\u001b[0;32m    492\u001b[0m \u001b[38;5;28;01mif\u001b[39;00m \u001b[38;5;28mlen\u001b[39m(buffer) \u001b[38;5;241m==\u001b[39m \u001b[38;5;241m0\u001b[39m: \u001b[38;5;28;01mbreak\u001b[39;00m  \u001b[38;5;66;03m# reached end of the stream\u001b[39;00m\n\u001b[0;32m    493\u001b[0m frames\u001b[38;5;241m.\u001b[39mappend(buffer)\n",
      "File \u001b[1;32m~\\miniconda3\\envs\\py310\\lib\\site-packages\\speech_recognition\\__init__.py:199\u001b[0m, in \u001b[0;36mMicrophone.MicrophoneStream.read\u001b[1;34m(self, size)\u001b[0m\n\u001b[0;32m    198\u001b[0m \u001b[38;5;28;01mdef\u001b[39;00m \u001b[38;5;21mread\u001b[39m(\u001b[38;5;28mself\u001b[39m, size):\n\u001b[1;32m--> 199\u001b[0m     \u001b[38;5;28;01mreturn\u001b[39;00m \u001b[38;5;28;43mself\u001b[39;49m\u001b[38;5;241;43m.\u001b[39;49m\u001b[43mpyaudio_stream\u001b[49m\u001b[38;5;241;43m.\u001b[39;49m\u001b[43mread\u001b[49m\u001b[43m(\u001b[49m\u001b[43msize\u001b[49m\u001b[43m,\u001b[49m\u001b[43m \u001b[49m\u001b[43mexception_on_overflow\u001b[49m\u001b[38;5;241;43m=\u001b[39;49m\u001b[38;5;28;43;01mFalse\u001b[39;49;00m\u001b[43m)\u001b[49m\n",
      "File \u001b[1;32m~\\miniconda3\\envs\\py310\\lib\\site-packages\\pyaudio\\__init__.py:570\u001b[0m, in \u001b[0;36mPyAudio.Stream.read\u001b[1;34m(self, num_frames, exception_on_overflow)\u001b[0m\n\u001b[0;32m    567\u001b[0m \u001b[38;5;28;01mif\u001b[39;00m \u001b[38;5;129;01mnot\u001b[39;00m \u001b[38;5;28mself\u001b[39m\u001b[38;5;241m.\u001b[39m_is_input:\n\u001b[0;32m    568\u001b[0m     \u001b[38;5;28;01mraise\u001b[39;00m \u001b[38;5;167;01mIOError\u001b[39;00m(\u001b[38;5;124m\"\u001b[39m\u001b[38;5;124mNot input stream\u001b[39m\u001b[38;5;124m\"\u001b[39m,\n\u001b[0;32m    569\u001b[0m                   paCanNotReadFromAnOutputOnlyStream)\n\u001b[1;32m--> 570\u001b[0m \u001b[38;5;28;01mreturn\u001b[39;00m \u001b[43mpa\u001b[49m\u001b[38;5;241;43m.\u001b[39;49m\u001b[43mread_stream\u001b[49m\u001b[43m(\u001b[49m\u001b[38;5;28;43mself\u001b[39;49m\u001b[38;5;241;43m.\u001b[39;49m\u001b[43m_stream\u001b[49m\u001b[43m,\u001b[49m\u001b[43m \u001b[49m\u001b[43mnum_frames\u001b[49m\u001b[43m,\u001b[49m\n\u001b[0;32m    571\u001b[0m \u001b[43m                      \u001b[49m\u001b[43mexception_on_overflow\u001b[49m\u001b[43m)\u001b[49m\n",
      "\u001b[1;31mKeyboardInterrupt\u001b[0m: "
     ]
    }
   ],
   "source": [
    "# Initialize the recognizer\n",
    "r = sr.Recognizer()\n",
    "\n",
    "# Loop infinitely for user to speak\n",
    "while(1):   \n",
    "     \n",
    "    try:\n",
    "         \n",
    "        # Use the microphone as source for input.\n",
    "        with sr.Microphone() as mic:\n",
    "             \n",
    "            # Wait for a sec to let the recognizer adjust the energy threshold based on the surrounding noise level\n",
    "            r.adjust_for_ambient_noise(mic, duration=0.2)\n",
    "             \n",
    "            # Listens for the user's input\n",
    "            audio = r.listen(mic)\n",
    "             \n",
    "            # Using google to recognize audio\n",
    "            text = r.recognize_google(audio).lower()\n",
    "            print(text)\n",
    "            \n",
    "            # Find rhyme and rap\n",
    "            rap(text)\n",
    "             \n",
    "    except sr.RequestError as e:\n",
    "        print(\"\\nCould not request results; {0}\\n\".format(e))\n",
    "         \n",
    "    except sr.UnknownValueError:\n",
    "        print(\"\\nunknown error occurred\\n\")"
   ]
  },
  {
   "cell_type": "code",
   "execution_count": null,
   "id": "c72bee6b",
   "metadata": {},
   "outputs": [],
   "source": []
  },
  {
   "cell_type": "code",
   "execution_count": 232,
   "id": "87f1ab83",
   "metadata": {},
   "outputs": [
    {
     "name": "stdout",
     "output_type": "stream",
     "text": [
      "['acquit', 'admit', 'barritt', 'befit', 'bit', 'boblitt', 'brit', 'britt', 'burditt', 'chit', 'clampitt', 'commit', 'davitt', 'devitt', 'dewitt', 'dewitte', 'douthit', 'douthitt', 'emit', 'fit', 'fitt', 'flit', 'get', 'gillett', 'git', 'grit', 'hit', 'hitt', 'it-wit', 'kit', 'kitt', 'knit', 'laffitte', 'lafitte', 'legit', 'lit', 'litt', 'mcnitt', 'mit', 'mitt', 'nit', 'obit', 'omit', 'permit', 'pit', 'pitt', 'plitt', 'politte', 'presplit', 'pritt', 'quit', 'readmit', 'recommit', 'refit', 'remit', 'resubmit', 'ritt', 'savitt', 'schlitt', 'schmidt', 'schmit', 'schmitt', 'shit', 'sit', 'skit', 'slit', 'smit', 'spit', 'split', 'splitt', 'stitt', 'submit', 'tit', 'transmit', 'tritt', 'unfit', 'vitt', 'whit', 'whit', 'whitt', 'whitt', 'wit', 'witt', 'witte', 'writ']\n",
      "as god as my witness, this will smith spit real shit\n"
     ]
    }
   ],
   "source": [
    "string = 'Your mom wont play it in the car cause it got cursing in it'.lower()\n",
    "rap(string)"
   ]
  },
  {
   "cell_type": "code",
   "execution_count": null,
   "id": "9fba4288",
   "metadata": {},
   "outputs": [],
   "source": []
  },
  {
   "cell_type": "code",
   "execution_count": 157,
   "id": "a849dfe9",
   "metadata": {},
   "outputs": [],
   "source": [
    "SpeakText('bruh')"
   ]
  },
  {
   "cell_type": "code",
   "execution_count": 151,
   "id": "33ff597e",
   "metadata": {},
   "outputs": [],
   "source": [
    "SpeakText('what is up')"
   ]
  },
  {
   "cell_type": "code",
   "execution_count": null,
   "id": "4460c274",
   "metadata": {},
   "outputs": [],
   "source": []
  }
 ],
 "metadata": {
  "kernelspec": {
   "display_name": "py310",
   "language": "python",
   "name": "py310"
  },
  "language_info": {
   "codemirror_mode": {
    "name": "ipython",
    "version": 3
   },
   "file_extension": ".py",
   "mimetype": "text/x-python",
   "name": "python",
   "nbconvert_exporter": "python",
   "pygments_lexer": "ipython3",
   "version": "3.10.4"
  }
 },
 "nbformat": 4,
 "nbformat_minor": 5
}
